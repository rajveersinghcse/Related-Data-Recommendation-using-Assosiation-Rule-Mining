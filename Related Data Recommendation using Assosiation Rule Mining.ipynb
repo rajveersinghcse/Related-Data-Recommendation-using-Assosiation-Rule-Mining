{
 "cells": [
  {
   "cell_type": "markdown",
   "id": "466cf56f",
   "metadata": {},
   "source": [
    "#  Project - Related Data Recommendation using Assosiation Rule Mining"
   ]
  },
  {
   "cell_type": "code",
   "execution_count": 1,
   "id": "37ff4304",
   "metadata": {},
   "outputs": [],
   "source": [
    "A = [['Milk', 'Onion', 'Chhole', 'Rajma', 'Ghee', 'Dahi'],\n",
    "     ['Dill', 'Onion', 'Chhole', 'Rajma', 'Ghee', 'Dahi'],\n",
    "     ['Milk', 'Apple', 'Rajma', 'Ghee'],\n",
    "     ['Milk', 'Mutter', 'Corn', 'Rajma', 'Dahi'],\n",
    "     ['Corn', 'Onion', 'Onion', 'Rajma', 'Ice cream', 'Ghee']]"
   ]
  },
  {
   "cell_type": "code",
   "execution_count": 2,
   "id": "8f3b3967",
   "metadata": {},
   "outputs": [],
   "source": [
    "#pip install mlxtend"
   ]
  },
  {
   "cell_type": "markdown",
   "id": "14bc9e24",
   "metadata": {},
   "source": [
    "## Changing data into transation encoded format"
   ]
  },
  {
   "cell_type": "code",
   "execution_count": 3,
   "id": "af692f31",
   "metadata": {},
   "outputs": [],
   "source": [
    "from mlxtend.preprocessing import TransactionEncoder\n",
    "te=TransactionEncoder()\n",
    "import pandas as pd\n",
    "A=pd.DataFrame(te.fit_transform(A),columns=te.columns_)"
   ]
  },
  {
   "cell_type": "code",
   "execution_count": 4,
   "id": "d65dbe36",
   "metadata": {},
   "outputs": [
    {
     "data": {
      "text/html": [
       "<div>\n",
       "<style scoped>\n",
       "    .dataframe tbody tr th:only-of-type {\n",
       "        vertical-align: middle;\n",
       "    }\n",
       "\n",
       "    .dataframe tbody tr th {\n",
       "        vertical-align: top;\n",
       "    }\n",
       "\n",
       "    .dataframe thead th {\n",
       "        text-align: right;\n",
       "    }\n",
       "</style>\n",
       "<table border=\"1\" class=\"dataframe\">\n",
       "  <thead>\n",
       "    <tr style=\"text-align: right;\">\n",
       "      <th></th>\n",
       "      <th>Apple</th>\n",
       "      <th>Chhole</th>\n",
       "      <th>Corn</th>\n",
       "      <th>Dahi</th>\n",
       "      <th>Dill</th>\n",
       "      <th>Ghee</th>\n",
       "      <th>Ice cream</th>\n",
       "      <th>Milk</th>\n",
       "      <th>Mutter</th>\n",
       "      <th>Onion</th>\n",
       "      <th>Rajma</th>\n",
       "    </tr>\n",
       "  </thead>\n",
       "  <tbody>\n",
       "    <tr>\n",
       "      <th>0</th>\n",
       "      <td>False</td>\n",
       "      <td>True</td>\n",
       "      <td>False</td>\n",
       "      <td>True</td>\n",
       "      <td>False</td>\n",
       "      <td>True</td>\n",
       "      <td>False</td>\n",
       "      <td>True</td>\n",
       "      <td>False</td>\n",
       "      <td>True</td>\n",
       "      <td>True</td>\n",
       "    </tr>\n",
       "    <tr>\n",
       "      <th>1</th>\n",
       "      <td>False</td>\n",
       "      <td>True</td>\n",
       "      <td>False</td>\n",
       "      <td>True</td>\n",
       "      <td>True</td>\n",
       "      <td>True</td>\n",
       "      <td>False</td>\n",
       "      <td>False</td>\n",
       "      <td>False</td>\n",
       "      <td>True</td>\n",
       "      <td>True</td>\n",
       "    </tr>\n",
       "    <tr>\n",
       "      <th>2</th>\n",
       "      <td>True</td>\n",
       "      <td>False</td>\n",
       "      <td>False</td>\n",
       "      <td>False</td>\n",
       "      <td>False</td>\n",
       "      <td>True</td>\n",
       "      <td>False</td>\n",
       "      <td>True</td>\n",
       "      <td>False</td>\n",
       "      <td>False</td>\n",
       "      <td>True</td>\n",
       "    </tr>\n",
       "    <tr>\n",
       "      <th>3</th>\n",
       "      <td>False</td>\n",
       "      <td>False</td>\n",
       "      <td>True</td>\n",
       "      <td>True</td>\n",
       "      <td>False</td>\n",
       "      <td>False</td>\n",
       "      <td>False</td>\n",
       "      <td>True</td>\n",
       "      <td>True</td>\n",
       "      <td>False</td>\n",
       "      <td>True</td>\n",
       "    </tr>\n",
       "    <tr>\n",
       "      <th>4</th>\n",
       "      <td>False</td>\n",
       "      <td>False</td>\n",
       "      <td>True</td>\n",
       "      <td>False</td>\n",
       "      <td>False</td>\n",
       "      <td>True</td>\n",
       "      <td>True</td>\n",
       "      <td>False</td>\n",
       "      <td>False</td>\n",
       "      <td>True</td>\n",
       "      <td>True</td>\n",
       "    </tr>\n",
       "  </tbody>\n",
       "</table>\n",
       "</div>"
      ],
      "text/plain": [
       "   Apple  Chhole   Corn   Dahi   Dill   Ghee  Ice cream   Milk  Mutter  Onion  \\\n",
       "0  False    True  False   True  False   True      False   True   False   True   \n",
       "1  False    True  False   True   True   True      False  False   False   True   \n",
       "2   True   False  False  False  False   True      False   True   False  False   \n",
       "3  False   False   True   True  False  False      False   True    True  False   \n",
       "4  False   False   True  False  False   True       True  False   False   True   \n",
       "\n",
       "   Rajma  \n",
       "0   True  \n",
       "1   True  \n",
       "2   True  \n",
       "3   True  \n",
       "4   True  "
      ]
     },
     "execution_count": 4,
     "metadata": {},
     "output_type": "execute_result"
    }
   ],
   "source": [
    "A.head(20)"
   ]
  },
  {
   "cell_type": "code",
   "execution_count": 5,
   "id": "f2bd42b2",
   "metadata": {},
   "outputs": [
    {
     "data": {
      "text/plain": [
       "(5, 11)"
      ]
     },
     "execution_count": 5,
     "metadata": {},
     "output_type": "execute_result"
    }
   ],
   "source": [
    "A.shape"
   ]
  },
  {
   "cell_type": "markdown",
   "id": "03b950ff",
   "metadata": {},
   "source": [
    "### Apriori algo for finding Support"
   ]
  },
  {
   "cell_type": "code",
   "execution_count": 6,
   "id": "d8a97488",
   "metadata": {},
   "outputs": [],
   "source": [
    "from mlxtend.frequent_patterns import apriori\n",
    "Q=apriori(A,min_support=0.5,use_colnames=True)"
   ]
  },
  {
   "cell_type": "code",
   "execution_count": 7,
   "id": "c41cbe61",
   "metadata": {},
   "outputs": [
    {
     "data": {
      "text/plain": [
       "0                   (Dahi)\n",
       "1                   (Ghee)\n",
       "2                   (Milk)\n",
       "3                  (Onion)\n",
       "4                  (Rajma)\n",
       "5            (Dahi, Rajma)\n",
       "6            (Onion, Ghee)\n",
       "7            (Rajma, Ghee)\n",
       "8            (Rajma, Milk)\n",
       "9           (Onion, Rajma)\n",
       "10    (Onion, Rajma, Ghee)\n",
       "Name: itemsets, dtype: object"
      ]
     },
     "execution_count": 7,
     "metadata": {},
     "output_type": "execute_result"
    }
   ],
   "source": [
    "Q.itemsets"
   ]
  },
  {
   "cell_type": "code",
   "execution_count": 8,
   "id": "cad5c9ea",
   "metadata": {},
   "outputs": [],
   "source": [
    "p=[]\n",
    "for i in Q.itemsets:\n",
    "    p.append(len(i))"
   ]
  },
  {
   "cell_type": "code",
   "execution_count": 9,
   "id": "8d7d1e79",
   "metadata": {},
   "outputs": [
    {
     "data": {
      "text/plain": [
       "[1, 1, 1, 1, 1, 2, 2, 2, 2, 2, 3]"
      ]
     },
     "execution_count": 9,
     "metadata": {},
     "output_type": "execute_result"
    }
   ],
   "source": [
    "p"
   ]
  },
  {
   "cell_type": "code",
   "execution_count": 10,
   "id": "e660158e",
   "metadata": {},
   "outputs": [
    {
     "data": {
      "text/html": [
       "<div>\n",
       "<style scoped>\n",
       "    .dataframe tbody tr th:only-of-type {\n",
       "        vertical-align: middle;\n",
       "    }\n",
       "\n",
       "    .dataframe tbody tr th {\n",
       "        vertical-align: top;\n",
       "    }\n",
       "\n",
       "    .dataframe thead th {\n",
       "        text-align: right;\n",
       "    }\n",
       "</style>\n",
       "<table border=\"1\" class=\"dataframe\">\n",
       "  <thead>\n",
       "    <tr style=\"text-align: right;\">\n",
       "      <th></th>\n",
       "      <th>support</th>\n",
       "      <th>itemsets</th>\n",
       "    </tr>\n",
       "  </thead>\n",
       "  <tbody>\n",
       "    <tr>\n",
       "      <th>0</th>\n",
       "      <td>0.6</td>\n",
       "      <td>(Dahi)</td>\n",
       "    </tr>\n",
       "    <tr>\n",
       "      <th>1</th>\n",
       "      <td>0.8</td>\n",
       "      <td>(Ghee)</td>\n",
       "    </tr>\n",
       "    <tr>\n",
       "      <th>2</th>\n",
       "      <td>0.6</td>\n",
       "      <td>(Milk)</td>\n",
       "    </tr>\n",
       "    <tr>\n",
       "      <th>3</th>\n",
       "      <td>0.6</td>\n",
       "      <td>(Onion)</td>\n",
       "    </tr>\n",
       "    <tr>\n",
       "      <th>4</th>\n",
       "      <td>1.0</td>\n",
       "      <td>(Rajma)</td>\n",
       "    </tr>\n",
       "    <tr>\n",
       "      <th>5</th>\n",
       "      <td>0.6</td>\n",
       "      <td>(Dahi, Rajma)</td>\n",
       "    </tr>\n",
       "    <tr>\n",
       "      <th>6</th>\n",
       "      <td>0.6</td>\n",
       "      <td>(Onion, Ghee)</td>\n",
       "    </tr>\n",
       "    <tr>\n",
       "      <th>7</th>\n",
       "      <td>0.8</td>\n",
       "      <td>(Rajma, Ghee)</td>\n",
       "    </tr>\n",
       "    <tr>\n",
       "      <th>8</th>\n",
       "      <td>0.6</td>\n",
       "      <td>(Rajma, Milk)</td>\n",
       "    </tr>\n",
       "    <tr>\n",
       "      <th>9</th>\n",
       "      <td>0.6</td>\n",
       "      <td>(Onion, Rajma)</td>\n",
       "    </tr>\n",
       "    <tr>\n",
       "      <th>10</th>\n",
       "      <td>0.6</td>\n",
       "      <td>(Onion, Rajma, Ghee)</td>\n",
       "    </tr>\n",
       "  </tbody>\n",
       "</table>\n",
       "</div>"
      ],
      "text/plain": [
       "    support              itemsets\n",
       "0       0.6                (Dahi)\n",
       "1       0.8                (Ghee)\n",
       "2       0.6                (Milk)\n",
       "3       0.6               (Onion)\n",
       "4       1.0               (Rajma)\n",
       "5       0.6         (Dahi, Rajma)\n",
       "6       0.6         (Onion, Ghee)\n",
       "7       0.8         (Rajma, Ghee)\n",
       "8       0.6         (Rajma, Milk)\n",
       "9       0.6        (Onion, Rajma)\n",
       "10      0.6  (Onion, Rajma, Ghee)"
      ]
     },
     "execution_count": 10,
     "metadata": {},
     "output_type": "execute_result"
    }
   ],
   "source": [
    "Q"
   ]
  },
  {
   "cell_type": "code",
   "execution_count": 11,
   "id": "ebe071ab",
   "metadata": {},
   "outputs": [
    {
     "data": {
      "text/html": [
       "<div>\n",
       "<style scoped>\n",
       "    .dataframe tbody tr th:only-of-type {\n",
       "        vertical-align: middle;\n",
       "    }\n",
       "\n",
       "    .dataframe tbody tr th {\n",
       "        vertical-align: top;\n",
       "    }\n",
       "\n",
       "    .dataframe thead th {\n",
       "        text-align: right;\n",
       "    }\n",
       "</style>\n",
       "<table border=\"1\" class=\"dataframe\">\n",
       "  <thead>\n",
       "    <tr style=\"text-align: right;\">\n",
       "      <th></th>\n",
       "      <th>support</th>\n",
       "      <th>itemsets</th>\n",
       "      <th>SIZE</th>\n",
       "    </tr>\n",
       "  </thead>\n",
       "  <tbody>\n",
       "    <tr>\n",
       "      <th>5</th>\n",
       "      <td>0.6</td>\n",
       "      <td>(Dahi, Rajma)</td>\n",
       "      <td>2</td>\n",
       "    </tr>\n",
       "    <tr>\n",
       "      <th>6</th>\n",
       "      <td>0.6</td>\n",
       "      <td>(Onion, Ghee)</td>\n",
       "      <td>2</td>\n",
       "    </tr>\n",
       "    <tr>\n",
       "      <th>7</th>\n",
       "      <td>0.8</td>\n",
       "      <td>(Rajma, Ghee)</td>\n",
       "      <td>2</td>\n",
       "    </tr>\n",
       "    <tr>\n",
       "      <th>8</th>\n",
       "      <td>0.6</td>\n",
       "      <td>(Rajma, Milk)</td>\n",
       "      <td>2</td>\n",
       "    </tr>\n",
       "    <tr>\n",
       "      <th>9</th>\n",
       "      <td>0.6</td>\n",
       "      <td>(Onion, Rajma)</td>\n",
       "      <td>2</td>\n",
       "    </tr>\n",
       "  </tbody>\n",
       "</table>\n",
       "</div>"
      ],
      "text/plain": [
       "   support        itemsets  SIZE\n",
       "5      0.6   (Dahi, Rajma)     2\n",
       "6      0.6   (Onion, Ghee)     2\n",
       "7      0.8   (Rajma, Ghee)     2\n",
       "8      0.6   (Rajma, Milk)     2\n",
       "9      0.6  (Onion, Rajma)     2"
      ]
     },
     "execution_count": 11,
     "metadata": {},
     "output_type": "execute_result"
    }
   ],
   "source": [
    "Q['SIZE']=p\n",
    "Q[Q.SIZE==2]"
   ]
  },
  {
   "cell_type": "code",
   "execution_count": 12,
   "id": "c880a16e",
   "metadata": {},
   "outputs": [
    {
     "data": {
      "text/plain": [
       "5"
      ]
     },
     "execution_count": 12,
     "metadata": {},
     "output_type": "execute_result"
    }
   ],
   "source": [
    "len(A.Rajma)"
   ]
  },
  {
   "cell_type": "code",
   "execution_count": 13,
   "id": "060cda84",
   "metadata": {},
   "outputs": [
    {
     "data": {
      "text/plain": [
       "0.6"
      ]
     },
     "execution_count": 13,
     "metadata": {},
     "output_type": "execute_result"
    }
   ],
   "source": [
    "num=A[(A.Rajma==True) & (A.Dahi==True)].shape[0]\n",
    "den=A[A.Rajma==True].shape[0]\n",
    "conf=num/den\n",
    "conf"
   ]
  },
  {
   "cell_type": "markdown",
   "id": "76b76bf6",
   "metadata": {},
   "source": [
    "### Creating Function for Confidence"
   ]
  },
  {
   "cell_type": "code",
   "execution_count": 14,
   "id": "fee7bc1e",
   "metadata": {},
   "outputs": [],
   "source": [
    "def confidence(A,x,y):\n",
    "    num=A[(A[x]==True) & (A[y]==True)].shape[0]\n",
    "    den=A[A[x]==True].shape[0]\n",
    "    conf=num/den\n",
    "    return conf\n",
    "\n",
    "    "
   ]
  },
  {
   "cell_type": "markdown",
   "id": "565ebf85",
   "metadata": {},
   "source": [
    "### Finding Support Mannualy"
   ]
  },
  {
   "cell_type": "code",
   "execution_count": 15,
   "id": "819d9c93",
   "metadata": {},
   "outputs": [],
   "source": [
    "def supp(A,x,y):\n",
    "    num=A[(A[x]==True) & (A[y]==True)].shape[0]\n",
    "    den=A.shape[0]\n",
    "    sup=num/den\n",
    "    return sup\n"
   ]
  },
  {
   "cell_type": "code",
   "execution_count": 16,
   "id": "aa3862bf",
   "metadata": {},
   "outputs": [],
   "source": [
    "rule=[]\n",
    "support=[]\n",
    "conf=[]\n",
    "for i in A.columns:\n",
    "    for j in A.columns:\n",
    "        if(i != j):\n",
    "            rule.append(i + ' ' + j)\n",
    "            support.append(supp(A,i,j))\n",
    "            conf.append(confidence(A,i,j))"
   ]
  },
  {
   "cell_type": "code",
   "execution_count": 17,
   "id": "eec0c157",
   "metadata": {},
   "outputs": [
    {
     "data": {
      "text/html": [
       "<div>\n",
       "<style scoped>\n",
       "    .dataframe tbody tr th:only-of-type {\n",
       "        vertical-align: middle;\n",
       "    }\n",
       "\n",
       "    .dataframe tbody tr th {\n",
       "        vertical-align: top;\n",
       "    }\n",
       "\n",
       "    .dataframe thead th {\n",
       "        text-align: right;\n",
       "    }\n",
       "</style>\n",
       "<table border=\"1\" class=\"dataframe\">\n",
       "  <thead>\n",
       "    <tr style=\"text-align: right;\">\n",
       "      <th></th>\n",
       "      <th>rule</th>\n",
       "      <th>support</th>\n",
       "      <th>conf</th>\n",
       "    </tr>\n",
       "  </thead>\n",
       "  <tbody>\n",
       "    <tr>\n",
       "      <th>0</th>\n",
       "      <td>Apple Chhole</td>\n",
       "      <td>0.0</td>\n",
       "      <td>0.0</td>\n",
       "    </tr>\n",
       "    <tr>\n",
       "      <th>1</th>\n",
       "      <td>Apple Corn</td>\n",
       "      <td>0.0</td>\n",
       "      <td>0.0</td>\n",
       "    </tr>\n",
       "    <tr>\n",
       "      <th>2</th>\n",
       "      <td>Apple Dahi</td>\n",
       "      <td>0.0</td>\n",
       "      <td>0.0</td>\n",
       "    </tr>\n",
       "    <tr>\n",
       "      <th>3</th>\n",
       "      <td>Apple Dill</td>\n",
       "      <td>0.0</td>\n",
       "      <td>0.0</td>\n",
       "    </tr>\n",
       "    <tr>\n",
       "      <th>4</th>\n",
       "      <td>Apple Ghee</td>\n",
       "      <td>0.2</td>\n",
       "      <td>1.0</td>\n",
       "    </tr>\n",
       "    <tr>\n",
       "      <th>5</th>\n",
       "      <td>Apple Ice cream</td>\n",
       "      <td>0.0</td>\n",
       "      <td>0.0</td>\n",
       "    </tr>\n",
       "    <tr>\n",
       "      <th>6</th>\n",
       "      <td>Apple Milk</td>\n",
       "      <td>0.2</td>\n",
       "      <td>1.0</td>\n",
       "    </tr>\n",
       "    <tr>\n",
       "      <th>7</th>\n",
       "      <td>Apple Mutter</td>\n",
       "      <td>0.0</td>\n",
       "      <td>0.0</td>\n",
       "    </tr>\n",
       "    <tr>\n",
       "      <th>8</th>\n",
       "      <td>Apple Onion</td>\n",
       "      <td>0.0</td>\n",
       "      <td>0.0</td>\n",
       "    </tr>\n",
       "    <tr>\n",
       "      <th>9</th>\n",
       "      <td>Apple Rajma</td>\n",
       "      <td>0.2</td>\n",
       "      <td>1.0</td>\n",
       "    </tr>\n",
       "    <tr>\n",
       "      <th>10</th>\n",
       "      <td>Chhole Apple</td>\n",
       "      <td>0.0</td>\n",
       "      <td>0.0</td>\n",
       "    </tr>\n",
       "    <tr>\n",
       "      <th>11</th>\n",
       "      <td>Chhole Corn</td>\n",
       "      <td>0.0</td>\n",
       "      <td>0.0</td>\n",
       "    </tr>\n",
       "    <tr>\n",
       "      <th>12</th>\n",
       "      <td>Chhole Dahi</td>\n",
       "      <td>0.4</td>\n",
       "      <td>1.0</td>\n",
       "    </tr>\n",
       "    <tr>\n",
       "      <th>13</th>\n",
       "      <td>Chhole Dill</td>\n",
       "      <td>0.2</td>\n",
       "      <td>0.5</td>\n",
       "    </tr>\n",
       "    <tr>\n",
       "      <th>14</th>\n",
       "      <td>Chhole Ghee</td>\n",
       "      <td>0.4</td>\n",
       "      <td>1.0</td>\n",
       "    </tr>\n",
       "    <tr>\n",
       "      <th>15</th>\n",
       "      <td>Chhole Ice cream</td>\n",
       "      <td>0.0</td>\n",
       "      <td>0.0</td>\n",
       "    </tr>\n",
       "    <tr>\n",
       "      <th>16</th>\n",
       "      <td>Chhole Milk</td>\n",
       "      <td>0.2</td>\n",
       "      <td>0.5</td>\n",
       "    </tr>\n",
       "    <tr>\n",
       "      <th>17</th>\n",
       "      <td>Chhole Mutter</td>\n",
       "      <td>0.0</td>\n",
       "      <td>0.0</td>\n",
       "    </tr>\n",
       "    <tr>\n",
       "      <th>18</th>\n",
       "      <td>Chhole Onion</td>\n",
       "      <td>0.4</td>\n",
       "      <td>1.0</td>\n",
       "    </tr>\n",
       "    <tr>\n",
       "      <th>19</th>\n",
       "      <td>Chhole Rajma</td>\n",
       "      <td>0.4</td>\n",
       "      <td>1.0</td>\n",
       "    </tr>\n",
       "  </tbody>\n",
       "</table>\n",
       "</div>"
      ],
      "text/plain": [
       "                rule support conf\n",
       "0       Apple Chhole     0.0  0.0\n",
       "1         Apple Corn     0.0  0.0\n",
       "2         Apple Dahi     0.0  0.0\n",
       "3         Apple Dill     0.0  0.0\n",
       "4         Apple Ghee     0.2  1.0\n",
       "5    Apple Ice cream     0.0  0.0\n",
       "6         Apple Milk     0.2  1.0\n",
       "7       Apple Mutter     0.0  0.0\n",
       "8        Apple Onion     0.0  0.0\n",
       "9        Apple Rajma     0.2  1.0\n",
       "10      Chhole Apple     0.0  0.0\n",
       "11       Chhole Corn     0.0  0.0\n",
       "12       Chhole Dahi     0.4  1.0\n",
       "13       Chhole Dill     0.2  0.5\n",
       "14       Chhole Ghee     0.4  1.0\n",
       "15  Chhole Ice cream     0.0  0.0\n",
       "16       Chhole Milk     0.2  0.5\n",
       "17     Chhole Mutter     0.0  0.0\n",
       "18      Chhole Onion     0.4  1.0\n",
       "19      Chhole Rajma     0.4  1.0"
      ]
     },
     "execution_count": 17,
     "metadata": {},
     "output_type": "execute_result"
    }
   ],
   "source": [
    "final_data=pd.DataFrame([rule,support,conf]).T\n",
    "final_data.columns=['rule','support','conf']\n",
    "final_data.head(20)"
   ]
  },
  {
   "cell_type": "markdown",
   "id": "6c7ff874",
   "metadata": {},
   "source": [
    "### Related data recommendation"
   ]
  },
  {
   "cell_type": "code",
   "execution_count": 18,
   "id": "5d9998ad",
   "metadata": {},
   "outputs": [
    {
     "data": {
      "text/html": [
       "<div>\n",
       "<style scoped>\n",
       "    .dataframe tbody tr th:only-of-type {\n",
       "        vertical-align: middle;\n",
       "    }\n",
       "\n",
       "    .dataframe tbody tr th {\n",
       "        vertical-align: top;\n",
       "    }\n",
       "\n",
       "    .dataframe thead th {\n",
       "        text-align: right;\n",
       "    }\n",
       "</style>\n",
       "<table border=\"1\" class=\"dataframe\">\n",
       "  <thead>\n",
       "    <tr style=\"text-align: right;\">\n",
       "      <th></th>\n",
       "      <th>rule</th>\n",
       "      <th>support</th>\n",
       "      <th>conf</th>\n",
       "    </tr>\n",
       "  </thead>\n",
       "  <tbody>\n",
       "    <tr>\n",
       "      <th>39</th>\n",
       "      <td>Dahi Rajma</td>\n",
       "      <td>0.6</td>\n",
       "      <td>1.0</td>\n",
       "    </tr>\n",
       "    <tr>\n",
       "      <th>58</th>\n",
       "      <td>Ghee Onion</td>\n",
       "      <td>0.6</td>\n",
       "      <td>0.75</td>\n",
       "    </tr>\n",
       "    <tr>\n",
       "      <th>59</th>\n",
       "      <td>Ghee Rajma</td>\n",
       "      <td>0.8</td>\n",
       "      <td>1.0</td>\n",
       "    </tr>\n",
       "    <tr>\n",
       "      <th>79</th>\n",
       "      <td>Milk Rajma</td>\n",
       "      <td>0.6</td>\n",
       "      <td>1.0</td>\n",
       "    </tr>\n",
       "    <tr>\n",
       "      <th>95</th>\n",
       "      <td>Onion Ghee</td>\n",
       "      <td>0.6</td>\n",
       "      <td>1.0</td>\n",
       "    </tr>\n",
       "    <tr>\n",
       "      <th>99</th>\n",
       "      <td>Onion Rajma</td>\n",
       "      <td>0.6</td>\n",
       "      <td>1.0</td>\n",
       "    </tr>\n",
       "    <tr>\n",
       "      <th>103</th>\n",
       "      <td>Rajma Dahi</td>\n",
       "      <td>0.6</td>\n",
       "      <td>0.6</td>\n",
       "    </tr>\n",
       "    <tr>\n",
       "      <th>105</th>\n",
       "      <td>Rajma Ghee</td>\n",
       "      <td>0.8</td>\n",
       "      <td>0.8</td>\n",
       "    </tr>\n",
       "    <tr>\n",
       "      <th>107</th>\n",
       "      <td>Rajma Milk</td>\n",
       "      <td>0.6</td>\n",
       "      <td>0.6</td>\n",
       "    </tr>\n",
       "    <tr>\n",
       "      <th>109</th>\n",
       "      <td>Rajma Onion</td>\n",
       "      <td>0.6</td>\n",
       "      <td>0.6</td>\n",
       "    </tr>\n",
       "  </tbody>\n",
       "</table>\n",
       "</div>"
      ],
      "text/plain": [
       "            rule support  conf\n",
       "39    Dahi Rajma     0.6   1.0\n",
       "58    Ghee Onion     0.6  0.75\n",
       "59    Ghee Rajma     0.8   1.0\n",
       "79    Milk Rajma     0.6   1.0\n",
       "95    Onion Ghee     0.6   1.0\n",
       "99   Onion Rajma     0.6   1.0\n",
       "103   Rajma Dahi     0.6   0.6\n",
       "105   Rajma Ghee     0.8   0.8\n",
       "107   Rajma Milk     0.6   0.6\n",
       "109  Rajma Onion     0.6   0.6"
      ]
     },
     "execution_count": 18,
     "metadata": {},
     "output_type": "execute_result"
    }
   ],
   "source": [
    "final_data[(final_data.support > 0.4 ) & (final_data.conf > 0.4)]"
   ]
  },
  {
   "cell_type": "code",
   "execution_count": 19,
   "id": "1ee00033",
   "metadata": {},
   "outputs": [],
   "source": [
    "#so we can recommend products by this algo"
   ]
  },
  {
   "cell_type": "code",
   "execution_count": null,
   "id": "91f09bac",
   "metadata": {},
   "outputs": [],
   "source": []
  }
 ],
 "metadata": {
  "kernelspec": {
   "display_name": "Python 3",
   "language": "python",
   "name": "python3"
  },
  "language_info": {
   "codemirror_mode": {
    "name": "ipython",
    "version": 3
   },
   "file_extension": ".py",
   "mimetype": "text/x-python",
   "name": "python",
   "nbconvert_exporter": "python",
   "pygments_lexer": "ipython3",
   "version": "3.8.8"
  }
 },
 "nbformat": 4,
 "nbformat_minor": 5
}
